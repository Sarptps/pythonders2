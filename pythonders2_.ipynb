{
  "nbformat": 4,
  "nbformat_minor": 0,
  "metadata": {
    "colab": {
      "provenance": []
    },
    "kernelspec": {
      "name": "python3",
      "display_name": "Python 3"
    },
    "language_info": {
      "name": "python"
    }
  },
  "cells": [
    {
      "cell_type": "code",
      "execution_count": null,
      "metadata": {
        "colab": {
          "base_uri": "https://localhost:8080/"
        },
        "id": "2YZTKw0hzBpR",
        "outputId": "1180dcf8-ba46-41fb-eb61-e85179d56e55"
      },
      "outputs": [
        {
          "output_type": "stream",
          "name": "stdout",
          "text": [
            "Merhaba,İGÜ - İSTKA!\n"
          ]
        }
      ],
      "source": [
        "print(\"Merhaba,İGÜ - İSTKA!\") # print ekrana cıktı veren bır koddur."
      ]
    },
    {
      "cell_type": "code",
      "source": [],
      "metadata": {
        "id": "8xqKCkjmN4H4"
      },
      "execution_count": null,
      "outputs": []
    },
    {
      "cell_type": "code",
      "source": [
        "import sys # import python proglamlama dilinde kütüphane eklemeye yarayan bir kod blogudur\n",
        "print(sys.version)"
      ],
      "metadata": {
        "colab": {
          "base_uri": "https://localhost:8080/"
        },
        "id": "zpRYpi3DzHKt",
        "outputId": "fb7a6bb4-47bb-466a-8a9b-424e1331779e"
      },
      "execution_count": null,
      "outputs": [
        {
          "output_type": "stream",
          "name": "stdout",
          "text": [
            "3.10.12 (main, Jul 29 2024, 16:56:48) [GCC 11.4.0]\n"
          ]
        }
      ]
    },
    {
      "cell_type": "code",
      "source": [
        "from google.colab import drive # google colab - drive bağlantısı\n",
        "drive.mount('/content/drive')"
      ],
      "metadata": {
        "colab": {
          "base_uri": "https://localhost:8080/"
        },
        "id": "MFSTuc5QzMo8",
        "outputId": "a194532a-019b-4753-c022-bbf18c0701fe"
      },
      "execution_count": null,
      "outputs": [
        {
          "output_type": "stream",
          "name": "stdout",
          "text": [
            "Mounted at /content/drive\n"
          ]
        }
      ]
    },
    {
      "cell_type": "code",
      "source": [
        "import os\n",
        "os.chdir ('/content/drive/My Drive/python2')\n",
        "! pwd # bize kodun çıktısını dosya yolu olarak veren kod blogudur"
      ],
      "metadata": {
        "colab": {
          "base_uri": "https://localhost:8080/"
        },
        "id": "iEqa8zY3zTjc",
        "outputId": "737ea43f-d79b-4686-fd3a-501c255ef792"
      },
      "execution_count": null,
      "outputs": [
        {
          "output_type": "stream",
          "name": "stdout",
          "text": [
            "/content/drive/My Drive/python2\n"
          ]
        }
      ]
    },
    {
      "cell_type": "code",
      "source": [
        "# if koşul yapısı\n",
        "x = 10\n",
        "if x > 5:\n",
        "   print(\"x,5'ten büyüktür.\")"
      ],
      "metadata": {
        "colab": {
          "base_uri": "https://localhost:8080/"
        },
        "id": "GaS2dWsP1bXs",
        "outputId": "004e6098-4351-41a1-9a5b-2bfe818a19fa"
      },
      "execution_count": null,
      "outputs": [
        {
          "output_type": "stream",
          "name": "stdout",
          "text": [
            "x,5'ten büyüktür.\n"
          ]
        }
      ]
    },
    {
      "cell_type": "code",
      "source": [
        "# if-else koşulu yapısı\n",
        "x = 3\n",
        "\n",
        "if x> 5:\n",
        "    print(\"x, 5'ten büyüktür.\")\n",
        "else:\n",
        "    print(\"x, 5'ten küçük veya eşittir.\")"
      ],
      "metadata": {
        "colab": {
          "base_uri": "https://localhost:8080/"
        },
        "id": "EC6vZE0cHCnG",
        "outputId": "54cd7a5d-f874-4b36-d80d-57433acc0cc0"
      },
      "execution_count": null,
      "outputs": [
        {
          "output_type": "stream",
          "name": "stdout",
          "text": [
            "x, 5'ten küçük veya eşittir.\n"
          ]
        }
      ]
    },
    {
      "cell_type": "code",
      "source": [
        "# if-elif-else koşul yapısı\n",
        "\n",
        "x=8\n",
        "\n",
        "if x >10:\n",
        "   print(\"x,10'dan büyüktür.\")\n",
        "elif x > 5:\n",
        "   print(\"x,5'ten büyüktür ama 10'dan küçük veya eşittir.\")\n",
        "else:\n",
        "   print(\"x,5'ten küçük veya eşittir.\")"
      ],
      "metadata": {
        "colab": {
          "base_uri": "https://localhost:8080/"
        },
        "id": "XcWGQOOAJmJ_",
        "outputId": "adc31846-2cbf-4d28-80c5-a46026c5a3b2"
      },
      "execution_count": null,
      "outputs": [
        {
          "output_type": "stream",
          "name": "stdout",
          "text": [
            "x,5'ten büyüktür ama 10'dan küçük veya eşittir.\n"
          ]
        }
      ]
    },
    {
      "cell_type": "code",
      "source": [
        "# iç içe koşul yapısı\n",
        "\n",
        "x = 12\n",
        "y = 8\n",
        "\n",
        "if x > 10:\n",
        "    if y > 5:\n",
        "       print(\"x,10'dan büyük ve y, 5' ten büyüktür.\") # bu satır çalışır\n",
        "    else:\n",
        "        print(\"x, 10'dan büyük ama y, 5'ten küçük veya eşittir.\")\n",
        "else:\n",
        "    print(\"x,10'dan küçük veya eşittir.\")\n"
      ],
      "metadata": {
        "colab": {
          "base_uri": "https://localhost:8080/"
        },
        "id": "0ghy2QNlK-0a",
        "outputId": "ccad9e3b-e32a-4fe3-f87d-48e96a72805d"
      },
      "execution_count": null,
      "outputs": [
        {
          "output_type": "stream",
          "name": "stdout",
          "text": [
            "x,10'dan büyük ve y, 5' ten büyüktür.\n"
          ]
        }
      ]
    },
    {
      "cell_type": "code",
      "source": [
        "# mantıksal operatörler ile koşullar\n",
        "\n",
        "x = 7\n",
        "y = 3\n",
        "\n",
        "# 'and' operatörü ile\n",
        "if x > 5 and y > 2:\n",
        "    print(\"x,5'ten büyük ve y, 2'den büyüktür.\") # Bu satır çalışır\n",
        "\n",
        "# 'or' operatörü ile\n",
        "if x > 5 or y > 5:\n",
        "    print(\"x veya y, 5'ten büyüktür.\") # Bu satır çalışır\n",
        "\n",
        "# 'not' operatörü ile\n",
        "if  not (x > 10):\n",
        "    print(\"x, 10'dan büyük değildir.\")\n"
      ],
      "metadata": {
        "colab": {
          "base_uri": "https://localhost:8080/"
        },
        "id": "AXoBS8dQN6Cm",
        "outputId": "607ef9d5-e150-4b9f-d6da-999b74455c82"
      },
      "execution_count": 12,
      "outputs": [
        {
          "output_type": "stream",
          "name": "stdout",
          "text": [
            "x,5'ten büyük ve y, 2'den büyüktür.\n",
            "x veya y, 5'ten büyüktür.\n",
            "x, 10'dan büyük değildir.\n"
          ]
        }
      ]
    },
    {
      "cell_type": "code",
      "source": [
        "# örnek 1:not sistemi\n",
        "notu = 85 #not farkını gösterilecek...\n",
        "if notu >= 90:\n",
        "   print(\"harf notu: A\")\n",
        "elif notu >= 80:\n",
        "   print(\"Harf notu: B\") # bu satır çalışır\n",
        "elif notu >= 70:\n",
        "   print(\"Harf notu: C\")\n",
        "elif notu >= 60:\n",
        "   print(\"Harf notu: D\")\n",
        "else:\n",
        "   print(\"Harf notu: V\")"
      ],
      "metadata": {
        "colab": {
          "base_uri": "https://localhost:8080/"
        },
        "id": "c-wVp7g3RLz_",
        "outputId": "60a6ce0f-36f1-4832-d11c-043591886716"
      },
      "execution_count": 14,
      "outputs": [
        {
          "output_type": "stream",
          "name": "stdout",
          "text": [
            "Harf notu: B\n"
          ]
        }
      ]
    },
    {
      "cell_type": "code",
      "source": [
        "# örnek 2: yaş kontrolü\n",
        "yas = 20\n",
        "\n",
        "if yas < 18:\n",
        "   print(\"Reşit değilsiniz.\")\n",
        "elif yas < 21:\n",
        "   print(\"Reşitsiniz ama içecek satın alamazsınız.\")\n",
        "else:\n",
        "   print(\"İçecek satın alabilirsiniz.\")"
      ],
      "metadata": {
        "colab": {
          "base_uri": "https://localhost:8080/"
        },
        "id": "06bOPpvBTl7w",
        "outputId": "6d9a5208-5c40-4c3e-ce70-ec4aab786f3d"
      },
      "execution_count": 17,
      "outputs": [
        {
          "output_type": "stream",
          "name": "stdout",
          "text": [
            "Reşitsiniz ama içecek satın alamazsınız.\n"
          ]
        }
      ]
    },
    {
      "cell_type": "code",
      "source": [
        "# örnek 3: sayı pozitif,negatif veya sıfır mı?\n",
        "sayı = -5\n",
        "if sayı > 0:\n",
        "     print(\"sayı pozitiftir.\")\n",
        "elif sayı < 0:\n",
        "     print(\"sayı negatiftir.\") #u satır çalışır\n",
        "else:\n",
        "     print(\"sayı sıfırdır.\")"
      ],
      "metadata": {
        "colab": {
          "base_uri": "https://localhost:8080/"
        },
        "id": "pgvoRfXWUZeY",
        "outputId": "2dac0c4f-1b69-45a5-8147-efb8ebe6e0f0"
      },
      "execution_count": 26,
      "outputs": [
        {
          "output_type": "stream",
          "name": "stdout",
          "text": [
            "sayı negatiftir.\n"
          ]
        }
      ]
    }
  ]
}